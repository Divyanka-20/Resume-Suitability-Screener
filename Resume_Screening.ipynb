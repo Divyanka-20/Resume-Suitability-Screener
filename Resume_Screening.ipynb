{
 "cells": [
  {
   "cell_type": "code",
   "execution_count": 1,
   "metadata": {
    "id": "98coYbpNiC9Z"
   },
   "outputs": [],
   "source": [
    "import numpy as np\n",
    "import seaborn as sns\n",
    "import pandas as pd\n",
    "import matplotlib.pyplot as plt\n",
    "import re"
   ]
  },
  {
   "cell_type": "code",
   "execution_count": 3,
   "metadata": {
    "colab": {
     "base_uri": "https://localhost:8080/",
     "height": 206
    },
    "id": "x7yA0LY7jG5h",
    "outputId": "605b19ce-abc6-4a02-a170-2255900ea566"
   },
   "outputs": [
    {
     "data": {
      "text/html": [
       "<div>\n",
       "<style scoped>\n",
       "    .dataframe tbody tr th:only-of-type {\n",
       "        vertical-align: middle;\n",
       "    }\n",
       "\n",
       "    .dataframe tbody tr th {\n",
       "        vertical-align: top;\n",
       "    }\n",
       "\n",
       "    .dataframe thead th {\n",
       "        text-align: right;\n",
       "    }\n",
       "</style>\n",
       "<table border=\"1\" class=\"dataframe\">\n",
       "  <thead>\n",
       "    <tr style=\"text-align: right;\">\n",
       "      <th></th>\n",
       "      <th>Category</th>\n",
       "      <th>Resume</th>\n",
       "    </tr>\n",
       "  </thead>\n",
       "  <tbody>\n",
       "    <tr>\n",
       "      <th>0</th>\n",
       "      <td>Data Science</td>\n",
       "      <td>Skills * Programming Languages: Python (pandas...</td>\n",
       "    </tr>\n",
       "    <tr>\n",
       "      <th>1</th>\n",
       "      <td>Data Science</td>\n",
       "      <td>Education Details \\r\\nMay 2013 to May 2017 B.E...</td>\n",
       "    </tr>\n",
       "    <tr>\n",
       "      <th>2</th>\n",
       "      <td>Data Science</td>\n",
       "      <td>Areas of Interest Deep Learning, Control Syste...</td>\n",
       "    </tr>\n",
       "    <tr>\n",
       "      <th>3</th>\n",
       "      <td>Data Science</td>\n",
       "      <td>Skills â¢ R â¢ Python â¢ SAP HANA â¢ Table...</td>\n",
       "    </tr>\n",
       "    <tr>\n",
       "      <th>4</th>\n",
       "      <td>Data Science</td>\n",
       "      <td>Education Details \\r\\n MCA   YMCAUST,  Faridab...</td>\n",
       "    </tr>\n",
       "  </tbody>\n",
       "</table>\n",
       "</div>"
      ],
      "text/plain": [
       "       Category                                             Resume\n",
       "0  Data Science  Skills * Programming Languages: Python (pandas...\n",
       "1  Data Science  Education Details \\r\\nMay 2013 to May 2017 B.E...\n",
       "2  Data Science  Areas of Interest Deep Learning, Control Syste...\n",
       "3  Data Science  Skills â¢ R â¢ Python â¢ SAP HANA â¢ Table...\n",
       "4  Data Science  Education Details \\r\\n MCA   YMCAUST,  Faridab..."
      ]
     },
     "execution_count": 3,
     "metadata": {},
     "output_type": "execute_result"
    }
   ],
   "source": [
    "df=pd.read_csv('resume_dataset.csv')\n",
    "df.head()"
   ]
  },
  {
   "cell_type": "code",
   "execution_count": 5,
   "metadata": {
    "colab": {
     "base_uri": "https://localhost:8080/",
     "height": 899
    },
    "id": "S7a7Sy78jZA_",
    "outputId": "4c44f7aa-84d1-4c49-8767-a8f35bf86310"
   },
   "outputs": [
    {
     "data": {
      "text/plain": [
       "Category\n",
       "Java Developer               84\n",
       "Testing                      70\n",
       "DevOps Engineer              55\n",
       "Python Developer             48\n",
       "Web Designing                45\n",
       "HR                           44\n",
       "Hadoop                       42\n",
       "Blockchain                   40\n",
       "ETL Developer                40\n",
       "Operations Manager           40\n",
       "Data Science                 40\n",
       "Sales                        40\n",
       "Mechanical Engineer          40\n",
       "Arts                         36\n",
       "Database                     33\n",
       "Electrical Engineering       30\n",
       "Health and fitness           30\n",
       "PMO                          30\n",
       "Business Analyst             28\n",
       "DotNet Developer             28\n",
       "Automation Testing           26\n",
       "Network Security Engineer    25\n",
       "SAP Developer                24\n",
       "Civil Engineer               24\n",
       "Advocate                     20\n",
       "Name: count, dtype: int64"
      ]
     },
     "execution_count": 5,
     "metadata": {},
     "output_type": "execute_result"
    }
   ],
   "source": [
    "df['Category'].value_counts()"
   ]
  },
  {
   "cell_type": "code",
   "execution_count": 7,
   "metadata": {
    "colab": {
     "base_uri": "https://localhost:8080/",
     "height": 123
    },
    "id": "-TOsaBJSky0U",
    "outputId": "482cd4f8-7036-4fda-b550-abda94b08b88"
   },
   "outputs": [
    {
     "data": {
      "text/plain": [
       "'Skills * Programming Languages: Python (pandas, numpy, scipy, scikit-learn, matplotlib), Sql, Java, JavaScript/JQuery. * Machine learning: Regression, SVM, NaÃ¯ve Bayes, KNN, Random Forest, Decision Trees, Boosting techniques, Cluster Analysis, Word Embedding, Sentiment Analysis, Natural Language processing, Dimensionality reduction, Topic Modelling (LDA, NMF), PCA & Neural Nets. * Database Visualizations: Mysql, SqlServer, Cassandra, Hbase, ElasticSearch D3.js, DC.js, Plotly, kibana, matplotlib, ggplot, Tableau. * Others: Regular Expression, HTML, CSS, Angular 6, Logstash, Kafka, Python Flask, Git, Docker, computer vision - Open CV and understanding of Deep learning.Education Details \\r\\n\\r\\nData Science Assurance Associate \\r\\n\\r\\nData Science Assurance Associate - Ernst & Young LLP\\r\\nSkill Details \\r\\nJAVASCRIPT- Exprience - 24 months\\r\\njQuery- Exprience - 24 months\\r\\nPython- Exprience - 24 monthsCompany Details \\r\\ncompany - Ernst & Young LLP\\r\\ndescription - Fraud Investigations and Dispute Services   Assurance\\r\\nTECHNOLOGY ASSISTED REVIEW\\r\\nTAR (Technology Assisted Review) assists in accelerating the review process and run analytics and generate reports.\\r\\n* Core member of a team helped in developing automated review platform tool from scratch for assisting E discovery domain, this tool implements predictive coding and topic modelling by automating reviews, resulting in reduced labor costs and time spent during the lawyers review.\\r\\n* Understand the end to end flow of the solution, doing research and development for classification models, predictive analysis and mining of the information present in text data. Worked on analyzing the outputs and precision monitoring for the entire tool.\\r\\n* TAR assists in predictive coding, topic modelling from the evidence by following EY standards. Developed the classifier models in order to identify \"red flags\" and fraud-related issues.\\r\\n\\r\\nTools & Technologies: Python, scikit-learn, tfidf, word2vec, doc2vec, cosine similarity, NaÃ¯ve Bayes, LDA, NMF for topic modelling, Vader and text blob for sentiment analysis. Matplot lib, Tableau dashboard for reporting.\\r\\n\\r\\nMULTIPLE DATA SCIENCE AND ANALYTIC PROJECTS (USA CLIENTS)\\r\\nTEXT ANALYTICS - MOTOR VEHICLE CUSTOMER REVIEW DATA * Received customer feedback survey data for past one year. Performed sentiment (Positive, Negative & Neutral) and time series analysis on customer comments across all 4 categories.\\r\\n* Created heat map of terms by survey category based on frequency of words * Extracted Positive and Negative words across all the Survey categories and plotted Word cloud.\\r\\n* Created customized tableau dashboards for effective reporting and visualizations.\\r\\nCHATBOT * Developed a user friendly chatbot for one of our Products which handle simple questions about hours of operation, reservation options and so on.\\r\\n* This chat bot serves entire product related questions. Giving overview of tool via QA platform and also give recommendation responses so that user question to build chain of relevant answer.\\r\\n* This too has intelligence to build the pipeline of questions as per user requirement and asks the relevant /recommended questions.\\r\\n\\r\\nTools & Technologies: Python, Natural language processing, NLTK, spacy, topic modelling, Sentiment analysis, Word Embedding, scikit-learn, JavaScript/JQuery, SqlServer\\r\\n\\r\\nINFORMATION GOVERNANCE\\r\\nOrganizations to make informed decisions about all of the information they store. The integrated Information Governance portfolio synthesizes intelligence across unstructured data sources and facilitates action to ensure organizations are best positioned to counter information risk.\\r\\n* Scan data from multiple sources of formats and parse different file formats, extract Meta data information, push results for indexing elastic search and created customized, interactive dashboards using kibana.\\r\\n* Preforming ROT Analysis on the data which give information of data which helps identify content that is either Redundant, Outdated, or Trivial.\\r\\n* Preforming full-text search analysis on elastic search with predefined methods which can tag as (PII) personally identifiable information (social security numbers, addresses, names, etc.) which frequently targeted during cyber-attacks.\\r\\nTools & Technologies: Python, Flask, Elastic Search, Kibana\\r\\n\\r\\nFRAUD ANALYTIC PLATFORM\\r\\nFraud Analytics and investigative platform to review all red flag cases.\\r\\nâ\\x80¢ FAP is a Fraud Analytics and investigative platform with inbuilt case manager and suite of Analytics for various ERP systems.\\r\\n* It can be used by clients to interrogate their Accounting systems for identifying the anomalies which can be indicators of fraud by running advanced analytics\\r\\nTools & Technologies: HTML, JavaScript, SqlServer, JQuery, CSS, Bootstrap, Node.js, D3.js, DC.js'"
      ]
     },
     "execution_count": 7,
     "metadata": {},
     "output_type": "execute_result"
    }
   ],
   "source": [
    "df['Resume'][0]"
   ]
  },
  {
   "cell_type": "code",
   "execution_count": 9,
   "metadata": {
    "id": "ajiAGYWFlIeg"
   },
   "outputs": [],
   "source": [
    "import re\n",
    "\n",
    "def cleanResume(txt):\n",
    "    cleanTxt = re.sub(r'http\\S+', ' ', txt)             # remove URLs\n",
    "    cleanTxt = re.sub(r'\\b(RT|cc)\\b', '', cleanTxt)     # remove RT or cc only as words\n",
    "    cleanTxt = re.sub(r'[@#]', ' ', cleanTxt)           # remove @ and #\n",
    "    cleanTxt = re.sub(r'[^\\x00-\\x7f]', ' ', cleanTxt)   # remove non-ASCII\n",
    "    cleanTxt = re.sub(r'[^a-zA-Z ]', ' ', cleanTxt)     # keep only letters + spaces\n",
    "    cleanTxt = re.sub(r'\\s+', ' ', cleanTxt)            # collapse multiple spaces\n",
    "    return cleanTxt.strip()"
   ]
  },
  {
   "cell_type": "code",
   "execution_count": 11,
   "metadata": {
    "colab": {
     "base_uri": "https://localhost:8080/",
     "height": 36
    },
    "id": "mjn9xbXkl7pP",
    "outputId": "d0ba1bd3-dd65-45ab-8d15-b5859b2a9e6f"
   },
   "outputs": [
    {
     "data": {
      "text/plain": [
       "'my ram websiite like is access this x'"
      ]
     },
     "execution_count": 11,
     "metadata": {},
     "output_type": "execute_result"
    }
   ],
   "source": [
    "cleanResume(\"my ### $ # >ram websiite like is access this http://helloworld@gmail ^\\\\x 00 cc \")"
   ]
  },
  {
   "cell_type": "code",
   "execution_count": 13,
   "metadata": {
    "id": "CvII-0rDmN8f"
   },
   "outputs": [],
   "source": [
    "df['Resume']=df['Resume'].apply(lambda x:cleanResume(x))"
   ]
  },
  {
   "cell_type": "code",
   "execution_count": 15,
   "metadata": {
    "colab": {
     "base_uri": "https://localhost:8080/",
     "height": 88
    },
    "id": "0PYfv3tIvD2T",
    "outputId": "7b6a931f-4f35-46a7-bb2f-a75e19cb82f3"
   },
   "outputs": [
    {
     "data": {
      "text/plain": [
       "'SKILLS C Basics IOT Python MATLAB Data Science Machine Learning HTML Microsoft Word Microsoft Excel Microsoft Powerpoint RECOGNITION Academic Secured First place in B Tech Education Details August to May B Tech Ghatkesar Andhra Pradesh Aurora s Scientific and Technological Institute June to May Secondary Education Warangal Telangana SR Junior College Data Science Skill Details MS OFFICE Exprience Less than year months C Exprience Less than year months machine learning Exprience Less than year months data science Exprience Less than year months Matlab Exprience Less than year monthsCompany Details company description'"
      ]
     },
     "execution_count": 15,
     "metadata": {},
     "output_type": "execute_result"
    }
   ],
   "source": [
    "df['Resume'][5]"
   ]
  },
  {
   "cell_type": "code",
   "execution_count": 17,
   "metadata": {
    "id": "r5T0wxhSxkgA"
   },
   "outputs": [],
   "source": [
    "from sklearn.preprocessing import LabelEncoder\n",
    "le=LabelEncoder()"
   ]
  },
  {
   "cell_type": "code",
   "execution_count": 19,
   "metadata": {
    "id": "OwEOcAr1x6ld"
   },
   "outputs": [],
   "source": [
    "df['Category']=le.fit_transform(df['Category'])"
   ]
  },
  {
   "cell_type": "code",
   "execution_count": 21,
   "metadata": {
    "colab": {
     "base_uri": "https://localhost:8080/"
    },
    "id": "Ogi5oHI2yHjm",
    "outputId": "4d80c780-b4a6-469d-cc52-f5109e042b72"
   },
   "outputs": [
    {
     "data": {
      "text/plain": [
       "array([ 6, 12,  0,  1, 24, 16, 22, 14,  5, 15,  4, 21,  2, 11, 18, 20,  8,\n",
       "       17, 19,  7, 13, 10,  9,  3, 23])"
      ]
     },
     "execution_count": 21,
     "metadata": {},
     "output_type": "execute_result"
    }
   ],
   "source": [
    "df['Category'].unique()"
   ]
  },
  {
   "cell_type": "markdown",
   "metadata": {
    "id": "cn4cR3uGPIFw"
   },
   "source": [
    "**CONVERTING TEXT INTO NUMBER OF RESUME COLUMN**"
   ]
  },
  {
   "cell_type": "code",
   "execution_count": 24,
   "metadata": {
    "colab": {
     "base_uri": "https://localhost:8080/"
    },
    "id": "2DCs0-z1yJaS",
    "outputId": "8729b3ce-a9eb-435d-e652-aceeb228f4f8"
   },
   "outputs": [
    {
     "data": {
      "text/plain": [
       "<962x7036 sparse matrix of type '<class 'numpy.float64'>'\n",
       "\twith 158292 stored elements in Compressed Sparse Row format>"
      ]
     },
     "execution_count": 24,
     "metadata": {},
     "output_type": "execute_result"
    }
   ],
   "source": [
    "from sklearn.feature_extraction.text import TfidfVectorizer\n",
    "\n",
    "tfidf=TfidfVectorizer(stop_words='english')\n",
    "\n",
    "\n",
    "tfidf.fit(df['Resume'])\n",
    "requiredTxt=tfidf.transform(df['Resume'])\n",
    "requiredTxt"
   ]
  },
  {
   "cell_type": "code",
   "execution_count": 26,
   "metadata": {
    "id": "YqIK81w5I-OX"
   },
   "outputs": [],
   "source": [
    "from sklearn.model_selection import train_test_split"
   ]
  },
  {
   "cell_type": "code",
   "execution_count": 28,
   "metadata": {
    "id": "0nB5A26fMTqH"
   },
   "outputs": [],
   "source": [
    "X=requiredTxt\n",
    "y=df['Category']\n",
    "\n",
    "X_train, X_test, y_train, y_test = train_test_split(X, y, test_size=0.2, random_state=42)"
   ]
  },
  {
   "cell_type": "markdown",
   "metadata": {
    "id": "gyyTD58vO8wR"
   },
   "source": [
    "**MODEL TRAINING(IMPORTANT)**"
   ]
  },
  {
   "cell_type": "markdown",
   "metadata": {
    "id": "0yStx8IT8nOT"
   },
   "source": [
    "**1st Model Training Method**"
   ]
  },
  {
   "cell_type": "markdown",
   "metadata": {
    "id": "L-LWWLKg-MO0"
   },
   "source": [
    "**KNN with OneVsRestClassifier** Use this when your problem is single-label classification"
   ]
  },
  {
   "cell_type": "code",
   "execution_count": 32,
   "metadata": {
    "colab": {
     "base_uri": "https://localhost:8080/"
    },
    "id": "4EdIO_BVM4Oe",
    "outputId": "2032202a-d492-4363-beea-ed85220692ba"
   },
   "outputs": [
    {
     "name": "stdout",
     "output_type": "stream",
     "text": [
      "0.9844559585492227\n"
     ]
    }
   ],
   "source": [
    "# Model training using KNN(Classification) and OnevsRestClassifier\n",
    "\n",
    "\n",
    "from sklearn.neighbors import KNeighborsClassifier #new\n",
    "from sklearn.multiclass import OneVsRestClassifier #new\n",
    "from sklearn.metrics import accuracy_score\n",
    "\n",
    "clf=OneVsRestClassifier(KNeighborsClassifier())\n",
    "clf.fit(X_train,y_train)\n",
    "ypred=clf.predict(X_test)\n",
    "print(accuracy_score(y_test,ypred))"
   ]
  },
  {
   "cell_type": "markdown",
   "metadata": {
    "id": "auplreK5-DvV"
   },
   "source": [
    "**Plain KNN (default scikit-learn)**   Use this when your problem is multi-label classification"
   ]
  },
  {
   "cell_type": "code",
   "execution_count": 34,
   "metadata": {
    "colab": {
     "base_uri": "https://localhost:8080/"
    },
    "id": "i6u2I-tA8lDp",
    "outputId": "f37b2f1a-6e54-4927-9230-47f26c780766"
   },
   "outputs": [
    {
     "name": "stdout",
     "output_type": "stream",
     "text": [
      "Plain KNN Accuracy: 98.44559585492227\n"
     ]
    }
   ],
   "source": [
    "# Model training using KNN(Classification)\n",
    "\n",
    "from sklearn.neighbors import KNeighborsClassifier\n",
    "from sklearn.metrics import accuracy_score\n",
    "\n",
    "# Initialize model\n",
    "knn = KNeighborsClassifier(n_neighbors=5)\n",
    "\n",
    "# Train\n",
    "knn.fit(X_train, y_train)\n",
    "\n",
    "# Predict\n",
    "y_pred = knn.predict(X_test)\n",
    "\n",
    "# Accuracy\n",
    "print(\"Plain KNN Accuracy:\", accuracy_score(y_test, y_pred)*100)\n"
   ]
  },
  {
   "cell_type": "markdown",
   "metadata": {
    "id": "8tpQzrs88lcw"
   },
   "source": [
    "**Second Model Training Method**"
   ]
  },
  {
   "cell_type": "code",
   "execution_count": 41,
   "metadata": {
    "colab": {
     "base_uri": "https://localhost:8080/"
    },
    "id": "wtPL3aH78kxx",
    "outputId": "981e0463-e38f-4974-c79b-57223fbb7abd"
   },
   "outputs": [
    {
     "name": "stdout",
     "output_type": "stream",
     "text": [
      "Random Forest Accuracy: 99.48186528497409\n"
     ]
    }
   ],
   "source": [
    "# RANDOM FOREST CLASSIFICATION\n",
    "\n",
    "from sklearn.ensemble import RandomForestClassifier\n",
    "from sklearn.metrics import accuracy_score\n",
    "\n",
    "clf = RandomForestClassifier(n_estimators=100, random_state=42)\n",
    "clf.fit(X_train, y_train)\n",
    "y_pred = clf.predict(X_test)\n",
    "\n",
    "print(\"Random Forest Accuracy:\", accuracy_score(y_test, y_pred)*100)\n"
   ]
  },
  {
   "cell_type": "markdown",
   "metadata": {
    "id": "E8khqAsG_MRc"
   },
   "source": [
    "**SAMPLE RESUME TEXT**"
   ]
  },
  {
   "cell_type": "code",
   "execution_count": 44,
   "metadata": {
    "colab": {
     "base_uri": "https://localhost:8080/"
    },
    "id": "BDvt7dyxIoIZ",
    "outputId": "38caa60d-d236-4a66-f4ba-c5c492c79cd5"
   },
   "outputs": [
    {
     "name": "stdout",
     "output_type": "stream",
     "text": [
      "Predicted Job Role: 6\n"
     ]
    }
   ],
   "source": [
    "sample_resume = \"\"\"\n",
    "Experienced in Python, Machine Learning, Data Analysis, Pandas, Numpy, and Deep Learning.\n",
    "Worked on projects involving classification, clustering, and NLP http://gmail.com $hii.\n",
    "\"\"\"\n",
    "sample= tfidf.transform([sample_resume])\n",
    "predicted_role = clf.predict(sample)[0]\n",
    "print(\"Predicted Job Role:\", predicted_role)"
   ]
  },
  {
   "cell_type": "code",
   "execution_count": 46,
   "metadata": {
    "id": "iJK04cx8Hyda"
   },
   "outputs": [],
   "source": [
    "import pickle\n",
    "pickle.dump(tfidf,open('tfidf.pkl','wb'))\n",
    "pickle.dump(clf,open('clf.pkl','wb'))"
   ]
  },
  {
   "cell_type": "code",
   "execution_count": 48,
   "metadata": {
    "colab": {
     "base_uri": "https://localhost:8080/"
    },
    "id": "UzYdHOwW8ERZ",
    "outputId": "7904f1e5-c46c-4b07-9bc2-f7e49114dd21"
   },
   "outputs": [
    {
     "name": "stdout",
     "output_type": "stream",
     "text": [
      "Predicted Category: Data Science\n"
     ]
    }
   ],
   "source": [
    "import pickle\n",
    "\n",
    "clf=pickle.load(open('clf.pkl','rb'))\n",
    "\n",
    "cleaned_Resume=cleanResume(sample_resume)\n",
    "\n",
    "input_features=tfidf.transform([cleaned_Resume])\n",
    "\n",
    "prediction_id=clf.predict(input_features)[0]\n",
    "\n",
    "categoryMapping={\n",
    "    15:'Java Developer',\n",
    "    23:'Testing',\n",
    "    8:'DevOps Engineer',\n",
    "    20:'Python Developer',\n",
    "    24:'Web Designing',\n",
    "    12:'HR',\n",
    "    13:'Hadoop',\n",
    "    3:'Blockchain',\n",
    "    10:'ETL Developer',\n",
    "    18:'Operations Manager',\n",
    "    6:'Data Science',\n",
    "    22:'Sales',\n",
    "    16:'Mechanical Engineer',\n",
    "    1:'Arts',\n",
    "    7:'Database',\n",
    "    11:'Electric Engineering',\n",
    "    14:'Health and fitness',\n",
    "    19:'PMO',\n",
    "    4:'Business Analyst',\n",
    "    9:'Dotnet Developer',\n",
    "    2:'Automation Testing',\n",
    "    17:'Network Security Engineer',\n",
    "    21:'SAP Developer',\n",
    "    5:'Civil Engineer',\n",
    "    0:'Advocate'\n",
    "}\n",
    "\n",
    "category_name=categoryMapping.get(prediction_id,'Unknown')\n",
    "\n",
    "print(\"Predicted Category:\",category_name)"
   ]
  },
  {
   "cell_type": "code",
   "execution_count": null,
   "metadata": {
    "id": "vG2QG6TjJ1_l"
   },
   "outputs": [],
   "source": []
  }
 ],
 "metadata": {
  "colab": {
   "provenance": []
  },
  "kernelspec": {
   "display_name": "Python 3 (ipykernel)",
   "language": "python",
   "name": "python3"
  },
  "language_info": {
   "codemirror_mode": {
    "name": "ipython",
    "version": 3
   },
   "file_extension": ".py",
   "mimetype": "text/x-python",
   "name": "python",
   "nbconvert_exporter": "python",
   "pygments_lexer": "ipython3",
   "version": "3.12.4"
  }
 },
 "nbformat": 4,
 "nbformat_minor": 4
}
